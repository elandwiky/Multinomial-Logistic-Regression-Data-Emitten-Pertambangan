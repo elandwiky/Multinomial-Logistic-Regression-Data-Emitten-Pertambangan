{
 "cells": [
  {
   "cell_type": "code",
   "execution_count": 1,
   "id": "621d6670",
   "metadata": {
    "_cell_guid": "b1076dfc-b9ad-4769-8c92-a6c4dae69d19",
    "_uuid": "8f2839f25d086af736a60e9eeb907d3b93b6e0e5",
    "execution": {
     "iopub.execute_input": "2022-07-06T11:56:48.762491Z",
     "iopub.status.busy": "2022-07-06T11:56:48.761650Z",
     "iopub.status.idle": "2022-07-06T11:56:48.780395Z",
     "shell.execute_reply": "2022-07-06T11:56:48.779641Z"
    },
    "papermill": {
     "duration": 0.02849,
     "end_time": "2022-07-06T11:56:48.783443",
     "exception": false,
     "start_time": "2022-07-06T11:56:48.754953",
     "status": "completed"
    },
    "tags": []
   },
   "outputs": [
    {
     "name": "stdout",
     "output_type": "stream",
     "text": [
      "/kaggle/input/data-pertambangan/datapertambangan UAS.csv\n"
     ]
    }
   ],
   "source": [
    "# This Python 3 environment comes with many helpful analytics libraries installed\n",
    "# It is defined by the kaggle/python Docker image: https://github.com/kaggle/docker-python\n",
    "# For example, here's several helpful packages to load\n",
    "\n",
    "import numpy as np # linear algebra\n",
    "import pandas as pd # data processing, CSV file I/O (e.g. pd.read_csv)\n",
    "\n",
    "# Input data files are available in the read-only \"../input/\" directory\n",
    "# For example, running this (by clicking run or pressing Shift+Enter) will list all files under the input directory\n",
    "\n",
    "import os\n",
    "for dirname, _, filenames in os.walk('/kaggle/input'):\n",
    "    for filename in filenames:\n",
    "        print(os.path.join(dirname, filename))\n",
    "\n",
    "# You can write up to 20GB to the current directory (/kaggle/working/) that gets preserved as output when you create a version using \"Save & Run All\" \n",
    "# You can also write temporary files to /kaggle/temp/, but they won't be saved outside of the current session"
   ]
  },
  {
   "cell_type": "code",
   "execution_count": 2,
   "id": "f01b21a1",
   "metadata": {
    "execution": {
     "iopub.execute_input": "2022-07-06T11:56:48.792983Z",
     "iopub.status.busy": "2022-07-06T11:56:48.792307Z",
     "iopub.status.idle": "2022-07-06T11:56:50.163439Z",
     "shell.execute_reply": "2022-07-06T11:56:50.162656Z"
    },
    "papermill": {
     "duration": 1.37852,
     "end_time": "2022-07-06T11:56:50.165925",
     "exception": false,
     "start_time": "2022-07-06T11:56:48.787405",
     "status": "completed"
    },
    "tags": []
   },
   "outputs": [],
   "source": [
    "import pandas as pd\n",
    "import seaborn as sns\n",
    "from sklearn.metrics import classification_report\n",
    "from sklearn.metrics import accuracy_score\n",
    "from sklearn.model_selection import train_test_split\n",
    "from sklearn.linear_model import LogisticRegression"
   ]
  },
  {
   "cell_type": "code",
   "execution_count": 3,
   "id": "9bc3c888",
   "metadata": {
    "execution": {
     "iopub.execute_input": "2022-07-06T11:56:50.175222Z",
     "iopub.status.busy": "2022-07-06T11:56:50.174347Z",
     "iopub.status.idle": "2022-07-06T11:56:50.207000Z",
     "shell.execute_reply": "2022-07-06T11:56:50.206037Z"
    },
    "papermill": {
     "duration": 0.039495,
     "end_time": "2022-07-06T11:56:50.209208",
     "exception": false,
     "start_time": "2022-07-06T11:56:50.169713",
     "status": "completed"
    },
    "tags": []
   },
   "outputs": [
    {
     "data": {
      "text/html": [
       "<div>\n",
       "<style scoped>\n",
       "    .dataframe tbody tr th:only-of-type {\n",
       "        vertical-align: middle;\n",
       "    }\n",
       "\n",
       "    .dataframe tbody tr th {\n",
       "        vertical-align: top;\n",
       "    }\n",
       "\n",
       "    .dataframe thead th {\n",
       "        text-align: right;\n",
       "    }\n",
       "</style>\n",
       "<table border=\"1\" class=\"dataframe\">\n",
       "  <thead>\n",
       "    <tr style=\"text-align: right;\">\n",
       "      <th></th>\n",
       "      <th>DER</th>\n",
       "      <th>Operating Profit Margin</th>\n",
       "      <th>Return On Asset</th>\n",
       "      <th>Sales Growth</th>\n",
       "      <th>Category</th>\n",
       "    </tr>\n",
       "  </thead>\n",
       "  <tbody>\n",
       "    <tr>\n",
       "      <th>0</th>\n",
       "      <td>0.65</td>\n",
       "      <td>6.663</td>\n",
       "      <td>0.06000</td>\n",
       "      <td>0.575136</td>\n",
       "      <td>4.0</td>\n",
       "    </tr>\n",
       "    <tr>\n",
       "      <th>1</th>\n",
       "      <td>1.69</td>\n",
       "      <td>42.550</td>\n",
       "      <td>0.18000</td>\n",
       "      <td>0.189673</td>\n",
       "      <td>2.0</td>\n",
       "    </tr>\n",
       "    <tr>\n",
       "      <th>2</th>\n",
       "      <td>8.94</td>\n",
       "      <td>15.080</td>\n",
       "      <td>-0.03865</td>\n",
       "      <td>-0.328694</td>\n",
       "      <td>2.0</td>\n",
       "    </tr>\n",
       "    <tr>\n",
       "      <th>3</th>\n",
       "      <td>5.43</td>\n",
       "      <td>-30.070</td>\n",
       "      <td>-1.19000</td>\n",
       "      <td>0.000000</td>\n",
       "      <td>4.0</td>\n",
       "    </tr>\n",
       "    <tr>\n",
       "      <th>4</th>\n",
       "      <td>1.42</td>\n",
       "      <td>265.900</td>\n",
       "      <td>0.01000</td>\n",
       "      <td>0.107550</td>\n",
       "      <td>2.0</td>\n",
       "    </tr>\n",
       "  </tbody>\n",
       "</table>\n",
       "</div>"
      ],
      "text/plain": [
       "    DER  Operating Profit Margin  Return On Asset  Sales Growth  Category\n",
       "0  0.65                    6.663          0.06000      0.575136       4.0\n",
       "1  1.69                   42.550          0.18000      0.189673       2.0\n",
       "2  8.94                   15.080         -0.03865     -0.328694       2.0\n",
       "3  5.43                  -30.070         -1.19000      0.000000       4.0\n",
       "4  1.42                  265.900          0.01000      0.107550       2.0"
      ]
     },
     "execution_count": 3,
     "metadata": {},
     "output_type": "execute_result"
    }
   ],
   "source": [
    "df = pd.read_csv('../input/data-pertambangan/datapertambangan UAS.csv')\n",
    "df.head()"
   ]
  },
  {
   "cell_type": "code",
   "execution_count": 4,
   "id": "81970f90",
   "metadata": {
    "execution": {
     "iopub.execute_input": "2022-07-06T11:56:50.219041Z",
     "iopub.status.busy": "2022-07-06T11:56:50.218287Z",
     "iopub.status.idle": "2022-07-06T11:56:50.225768Z",
     "shell.execute_reply": "2022-07-06T11:56:50.224850Z"
    },
    "papermill": {
     "duration": 0.014516,
     "end_time": "2022-07-06T11:56:50.227794",
     "exception": false,
     "start_time": "2022-07-06T11:56:50.213278",
     "status": "completed"
    },
    "tags": []
   },
   "outputs": [
    {
     "data": {
      "text/plain": [
       "array([[ 6.50000000e-01,  6.66300000e+00,  6.00000000e-02,\n",
       "         5.75135649e-01,  4.00000000e+00],\n",
       "       [ 1.69000000e+00,  4.25500000e+01,  1.80000000e-01,\n",
       "         1.89672802e-01,  2.00000000e+00],\n",
       "       [ 8.94000000e+00,  1.50800000e+01, -3.86500070e-02,\n",
       "        -3.28694489e-01,  2.00000000e+00],\n",
       "       [ 5.43000000e+00, -3.00700000e+01, -1.19000000e+00,\n",
       "         0.00000000e+00,  4.00000000e+00],\n",
       "       [ 1.42000000e+00,  2.65900000e+02,  1.00000000e-02,\n",
       "         1.07549938e-01,  2.00000000e+00],\n",
       "       [ 2.62500000e+01, -1.09000000e+02, -3.00000000e-01,\n",
       "        -3.71776683e-01,  2.00000000e+00],\n",
       "       [ 5.80000000e-01,  1.48500000e+00,  4.10000000e-01,\n",
       "         1.08581626e+00,  2.00000000e+00],\n",
       "       [ 1.22200000e+01,  1.02000000e+00,  2.00000000e-02,\n",
       "         7.09000000e-01,  1.00000000e+00],\n",
       "       [ 4.70000000e-01,  9.74000000e+00,  4.60000000e-01,\n",
       "         1.04443654e+00,  2.00000000e+00],\n",
       "       [ 1.11000000e+00,  2.46400000e+01, -1.20227300e-01,\n",
       "        -1.20273787e-01,  4.00000000e+00],\n",
       "       [ 4.61000000e+00, -2.30610000e+02, -2.00000000e-02,\n",
       "        -3.17664083e-01,  4.00000000e+00],\n",
       "       [ 6.50000000e-01,  1.94600000e+00, -2.00000000e-02,\n",
       "         4.36286341e-01,  4.00000000e+00],\n",
       "       [ 9.00000000e-01,  3.75600000e+01,  1.00000000e-02,\n",
       "         5.30116366e-02,  2.00000000e+00],\n",
       "       [ 1.50000000e+00,  2.57320000e+02,  3.00000000e-02,\n",
       "         2.49979993e-01,  2.00000000e+00],\n",
       "       [ 4.70000000e-01,  1.86600000e+01,  3.00000000e-02,\n",
       "         7.85000000e-01,  1.00000000e+00],\n",
       "       [ 1.15000000e+00,  2.86200000e+00,  3.10000000e-01,\n",
       "         4.94195457e-01,  2.00000000e+00],\n",
       "       [ 3.20000000e-01, -9.54000000e+00, -2.00000000e-02,\n",
       "         0.00000000e+00,  2.00000000e+00],\n",
       "       [ 3.10000000e-01,  7.44890000e+02,  1.00000000e-01,\n",
       "         1.13013642e+00,  2.00000000e+00],\n",
       "       [ 3.32000000e+00, -1.20220000e+02, -2.00000000e-02,\n",
       "         4.77538643e-01,  2.00000000e+00],\n",
       "       [ 4.50000000e-01,  3.88700000e+00,  2.40000000e-01,\n",
       "         1.18533600e+00,  1.00000000e+00],\n",
       "       [ 3.10000000e-01,  1.31790000e+02,  8.00000000e-02,\n",
       "         8.29774861e-01,  2.00000000e+00],\n",
       "       [ 5.20000000e-01,  6.99710000e+02,  2.90000000e-01,\n",
       "         5.39906663e-01,  2.00000000e+00],\n",
       "       [ 3.28000000e+00,  1.00600000e+00,  1.00000000e-02,\n",
       "        -2.39879830e-01,  2.00000000e+00],\n",
       "       [ 2.80000000e-01,  3.29000000e+00,  0.00000000e+00,\n",
       "         0.00000000e+00,  1.00000000e+00],\n",
       "       [ 2.05400000e+01, -1.73900000e+01, -8.00000000e-02,\n",
       "        -1.10911228e-01,  4.00000000e+00],\n",
       "       [ 1.50000000e-01,  3.04460000e+02,  1.80000000e-01,\n",
       "        -7.38447703e-02,  2.00000000e+00],\n",
       "       [ 7.70000000e-01, -2.54000000e+00, -6.00000000e-02,\n",
       "         0.00000000e+00,  4.00000000e+00],\n",
       "       [ 5.30000000e-01,  4.85300000e+00,  2.00000000e-01,\n",
       "         6.88954905e-01,  2.00000000e+00],\n",
       "       [ 1.20000000e+00,  2.08160000e+02,  6.00000000e-02,\n",
       "         2.20286597e-01,  2.00000000e+00],\n",
       "       [ 6.15219930e-02,  1.65939597e+00,  6.72285500e-03,\n",
       "         8.70432638e-01,  2.00000000e+00],\n",
       "       [ 3.08143629e-01,  8.66516400e-02,  5.65601620e-02,\n",
       "         4.04535561e-01,  2.00000000e+00]])"
      ]
     },
     "execution_count": 4,
     "metadata": {},
     "output_type": "execute_result"
    }
   ],
   "source": [
    "np.asarray(df)"
   ]
  },
  {
   "cell_type": "code",
   "execution_count": 5,
   "id": "d15b1a8c",
   "metadata": {
    "execution": {
     "iopub.execute_input": "2022-07-06T11:56:50.237394Z",
     "iopub.status.busy": "2022-07-06T11:56:50.236533Z",
     "iopub.status.idle": "2022-07-06T11:56:50.938472Z",
     "shell.execute_reply": "2022-07-06T11:56:50.937348Z"
    },
    "papermill": {
     "duration": 0.709362,
     "end_time": "2022-07-06T11:56:50.941106",
     "exception": false,
     "start_time": "2022-07-06T11:56:50.231744",
     "status": "completed"
    },
    "tags": []
   },
   "outputs": [],
   "source": [
    "import statsmodels.api as sm"
   ]
  },
  {
   "cell_type": "code",
   "execution_count": 6,
   "id": "fe8f27b2",
   "metadata": {
    "execution": {
     "iopub.execute_input": "2022-07-06T11:56:50.951311Z",
     "iopub.status.busy": "2022-07-06T11:56:50.950714Z",
     "iopub.status.idle": "2022-07-06T11:56:50.968858Z",
     "shell.execute_reply": "2022-07-06T11:56:50.967792Z"
    },
    "papermill": {
     "duration": 0.026035,
     "end_time": "2022-07-06T11:56:50.971231",
     "exception": false,
     "start_time": "2022-07-06T11:56:50.945196",
     "status": "completed"
    },
    "tags": []
   },
   "outputs": [
    {
     "data": {
      "text/html": [
       "<div>\n",
       "<style scoped>\n",
       "    .dataframe tbody tr th:only-of-type {\n",
       "        vertical-align: middle;\n",
       "    }\n",
       "\n",
       "    .dataframe tbody tr th {\n",
       "        vertical-align: top;\n",
       "    }\n",
       "\n",
       "    .dataframe thead th {\n",
       "        text-align: right;\n",
       "    }\n",
       "</style>\n",
       "<table border=\"1\" class=\"dataframe\">\n",
       "  <thead>\n",
       "    <tr style=\"text-align: right;\">\n",
       "      <th></th>\n",
       "      <th>DER</th>\n",
       "      <th>Operating Profit Margin</th>\n",
       "      <th>Return On Asset</th>\n",
       "      <th>Sales Growth</th>\n",
       "    </tr>\n",
       "  </thead>\n",
       "  <tbody>\n",
       "    <tr>\n",
       "      <th>0</th>\n",
       "      <td>0.65</td>\n",
       "      <td>6.663</td>\n",
       "      <td>0.06000</td>\n",
       "      <td>0.575136</td>\n",
       "    </tr>\n",
       "    <tr>\n",
       "      <th>1</th>\n",
       "      <td>1.69</td>\n",
       "      <td>42.550</td>\n",
       "      <td>0.18000</td>\n",
       "      <td>0.189673</td>\n",
       "    </tr>\n",
       "    <tr>\n",
       "      <th>2</th>\n",
       "      <td>8.94</td>\n",
       "      <td>15.080</td>\n",
       "      <td>-0.03865</td>\n",
       "      <td>-0.328694</td>\n",
       "    </tr>\n",
       "    <tr>\n",
       "      <th>3</th>\n",
       "      <td>5.43</td>\n",
       "      <td>-30.070</td>\n",
       "      <td>-1.19000</td>\n",
       "      <td>0.000000</td>\n",
       "    </tr>\n",
       "    <tr>\n",
       "      <th>4</th>\n",
       "      <td>1.42</td>\n",
       "      <td>265.900</td>\n",
       "      <td>0.01000</td>\n",
       "      <td>0.107550</td>\n",
       "    </tr>\n",
       "  </tbody>\n",
       "</table>\n",
       "</div>"
      ],
      "text/plain": [
       "    DER  Operating Profit Margin  Return On Asset  Sales Growth\n",
       "0  0.65                    6.663          0.06000      0.575136\n",
       "1  1.69                   42.550          0.18000      0.189673\n",
       "2  8.94                   15.080         -0.03865     -0.328694\n",
       "3  5.43                  -30.070         -1.19000      0.000000\n",
       "4  1.42                  265.900          0.01000      0.107550"
      ]
     },
     "execution_count": 6,
     "metadata": {},
     "output_type": "execute_result"
    }
   ],
   "source": [
    "x = df.drop('Category', axis=1)\n",
    "x.head()"
   ]
  },
  {
   "cell_type": "code",
   "execution_count": 7,
   "id": "0a3d3f87",
   "metadata": {
    "execution": {
     "iopub.execute_input": "2022-07-06T11:56:50.981555Z",
     "iopub.status.busy": "2022-07-06T11:56:50.980840Z",
     "iopub.status.idle": "2022-07-06T11:56:50.990411Z",
     "shell.execute_reply": "2022-07-06T11:56:50.989356Z"
    },
    "papermill": {
     "duration": 0.016856,
     "end_time": "2022-07-06T11:56:50.992532",
     "exception": false,
     "start_time": "2022-07-06T11:56:50.975676",
     "status": "completed"
    },
    "tags": []
   },
   "outputs": [
    {
     "data": {
      "text/plain": [
       "0    4.0\n",
       "1    2.0\n",
       "2    2.0\n",
       "3    4.0\n",
       "4    2.0\n",
       "Name: Category, dtype: float64"
      ]
     },
     "execution_count": 7,
     "metadata": {},
     "output_type": "execute_result"
    }
   ],
   "source": [
    "y = df['Category']\n",
    "y.head()"
   ]
  },
  {
   "cell_type": "code",
   "execution_count": 8,
   "id": "0876f76a",
   "metadata": {
    "execution": {
     "iopub.execute_input": "2022-07-06T11:56:51.002635Z",
     "iopub.status.busy": "2022-07-06T11:56:51.002220Z",
     "iopub.status.idle": "2022-07-06T11:56:51.008941Z",
     "shell.execute_reply": "2022-07-06T11:56:51.007777Z"
    },
    "papermill": {
     "duration": 0.014253,
     "end_time": "2022-07-06T11:56:51.011077",
     "exception": false,
     "start_time": "2022-07-06T11:56:50.996824",
     "status": "completed"
    },
    "tags": []
   },
   "outputs": [],
   "source": [
    "x_train, x_test, y_train, y_test = train_test_split(x,y, test_size=0.2)"
   ]
  },
  {
   "cell_type": "code",
   "execution_count": 9,
   "id": "fecf04be",
   "metadata": {
    "execution": {
     "iopub.execute_input": "2022-07-06T11:56:51.022580Z",
     "iopub.status.busy": "2022-07-06T11:56:51.022006Z",
     "iopub.status.idle": "2022-07-06T11:56:51.040880Z",
     "shell.execute_reply": "2022-07-06T11:56:51.039729Z"
    },
    "papermill": {
     "duration": 0.02809,
     "end_time": "2022-07-06T11:56:51.043477",
     "exception": false,
     "start_time": "2022-07-06T11:56:51.015387",
     "status": "completed"
    },
    "tags": []
   },
   "outputs": [
    {
     "data": {
      "text/html": [
       "<div>\n",
       "<style scoped>\n",
       "    .dataframe tbody tr th:only-of-type {\n",
       "        vertical-align: middle;\n",
       "    }\n",
       "\n",
       "    .dataframe tbody tr th {\n",
       "        vertical-align: top;\n",
       "    }\n",
       "\n",
       "    .dataframe thead th {\n",
       "        text-align: right;\n",
       "    }\n",
       "</style>\n",
       "<table border=\"1\" class=\"dataframe\">\n",
       "  <thead>\n",
       "    <tr style=\"text-align: right;\">\n",
       "      <th></th>\n",
       "      <th>const</th>\n",
       "      <th>DER</th>\n",
       "      <th>Operating Profit Margin</th>\n",
       "      <th>Return On Asset</th>\n",
       "      <th>Sales Growth</th>\n",
       "    </tr>\n",
       "  </thead>\n",
       "  <tbody>\n",
       "    <tr>\n",
       "      <th>9</th>\n",
       "      <td>1.0</td>\n",
       "      <td>1.110000</td>\n",
       "      <td>24.640000</td>\n",
       "      <td>-0.120227</td>\n",
       "      <td>-0.120274</td>\n",
       "    </tr>\n",
       "    <tr>\n",
       "      <th>27</th>\n",
       "      <td>1.0</td>\n",
       "      <td>0.530000</td>\n",
       "      <td>4.853000</td>\n",
       "      <td>0.200000</td>\n",
       "      <td>0.688955</td>\n",
       "    </tr>\n",
       "    <tr>\n",
       "      <th>30</th>\n",
       "      <td>1.0</td>\n",
       "      <td>0.308144</td>\n",
       "      <td>0.086652</td>\n",
       "      <td>0.056560</td>\n",
       "      <td>0.404536</td>\n",
       "    </tr>\n",
       "    <tr>\n",
       "      <th>4</th>\n",
       "      <td>1.0</td>\n",
       "      <td>1.420000</td>\n",
       "      <td>265.900000</td>\n",
       "      <td>0.010000</td>\n",
       "      <td>0.107550</td>\n",
       "    </tr>\n",
       "    <tr>\n",
       "      <th>14</th>\n",
       "      <td>1.0</td>\n",
       "      <td>0.470000</td>\n",
       "      <td>18.660000</td>\n",
       "      <td>0.030000</td>\n",
       "      <td>0.785000</td>\n",
       "    </tr>\n",
       "    <tr>\n",
       "      <th>20</th>\n",
       "      <td>1.0</td>\n",
       "      <td>0.310000</td>\n",
       "      <td>131.790000</td>\n",
       "      <td>0.080000</td>\n",
       "      <td>0.829775</td>\n",
       "    </tr>\n",
       "    <tr>\n",
       "      <th>18</th>\n",
       "      <td>1.0</td>\n",
       "      <td>3.320000</td>\n",
       "      <td>-120.220000</td>\n",
       "      <td>-0.020000</td>\n",
       "      <td>0.477539</td>\n",
       "    </tr>\n",
       "    <tr>\n",
       "      <th>6</th>\n",
       "      <td>1.0</td>\n",
       "      <td>0.580000</td>\n",
       "      <td>1.485000</td>\n",
       "      <td>0.410000</td>\n",
       "      <td>1.085816</td>\n",
       "    </tr>\n",
       "    <tr>\n",
       "      <th>28</th>\n",
       "      <td>1.0</td>\n",
       "      <td>1.200000</td>\n",
       "      <td>208.160000</td>\n",
       "      <td>0.060000</td>\n",
       "      <td>0.220287</td>\n",
       "    </tr>\n",
       "    <tr>\n",
       "      <th>25</th>\n",
       "      <td>1.0</td>\n",
       "      <td>0.150000</td>\n",
       "      <td>304.460000</td>\n",
       "      <td>0.180000</td>\n",
       "      <td>-0.073845</td>\n",
       "    </tr>\n",
       "    <tr>\n",
       "      <th>13</th>\n",
       "      <td>1.0</td>\n",
       "      <td>1.500000</td>\n",
       "      <td>257.320000</td>\n",
       "      <td>0.030000</td>\n",
       "      <td>0.249980</td>\n",
       "    </tr>\n",
       "    <tr>\n",
       "      <th>3</th>\n",
       "      <td>1.0</td>\n",
       "      <td>5.430000</td>\n",
       "      <td>-30.070000</td>\n",
       "      <td>-1.190000</td>\n",
       "      <td>0.000000</td>\n",
       "    </tr>\n",
       "    <tr>\n",
       "      <th>16</th>\n",
       "      <td>1.0</td>\n",
       "      <td>0.320000</td>\n",
       "      <td>-9.540000</td>\n",
       "      <td>-0.020000</td>\n",
       "      <td>0.000000</td>\n",
       "    </tr>\n",
       "    <tr>\n",
       "      <th>7</th>\n",
       "      <td>1.0</td>\n",
       "      <td>12.220000</td>\n",
       "      <td>1.020000</td>\n",
       "      <td>0.020000</td>\n",
       "      <td>0.709000</td>\n",
       "    </tr>\n",
       "    <tr>\n",
       "      <th>24</th>\n",
       "      <td>1.0</td>\n",
       "      <td>20.540000</td>\n",
       "      <td>-17.390000</td>\n",
       "      <td>-0.080000</td>\n",
       "      <td>-0.110911</td>\n",
       "    </tr>\n",
       "    <tr>\n",
       "      <th>17</th>\n",
       "      <td>1.0</td>\n",
       "      <td>0.310000</td>\n",
       "      <td>744.890000</td>\n",
       "      <td>0.100000</td>\n",
       "      <td>1.130136</td>\n",
       "    </tr>\n",
       "    <tr>\n",
       "      <th>29</th>\n",
       "      <td>1.0</td>\n",
       "      <td>0.061522</td>\n",
       "      <td>1.659396</td>\n",
       "      <td>0.006723</td>\n",
       "      <td>0.870433</td>\n",
       "    </tr>\n",
       "    <tr>\n",
       "      <th>23</th>\n",
       "      <td>1.0</td>\n",
       "      <td>0.280000</td>\n",
       "      <td>3.290000</td>\n",
       "      <td>0.000000</td>\n",
       "      <td>0.000000</td>\n",
       "    </tr>\n",
       "    <tr>\n",
       "      <th>12</th>\n",
       "      <td>1.0</td>\n",
       "      <td>0.900000</td>\n",
       "      <td>37.560000</td>\n",
       "      <td>0.010000</td>\n",
       "      <td>0.053012</td>\n",
       "    </tr>\n",
       "    <tr>\n",
       "      <th>26</th>\n",
       "      <td>1.0</td>\n",
       "      <td>0.770000</td>\n",
       "      <td>-2.540000</td>\n",
       "      <td>-0.060000</td>\n",
       "      <td>0.000000</td>\n",
       "    </tr>\n",
       "    <tr>\n",
       "      <th>5</th>\n",
       "      <td>1.0</td>\n",
       "      <td>26.250000</td>\n",
       "      <td>-109.000000</td>\n",
       "      <td>-0.300000</td>\n",
       "      <td>-0.371777</td>\n",
       "    </tr>\n",
       "    <tr>\n",
       "      <th>11</th>\n",
       "      <td>1.0</td>\n",
       "      <td>0.650000</td>\n",
       "      <td>1.946000</td>\n",
       "      <td>-0.020000</td>\n",
       "      <td>0.436286</td>\n",
       "    </tr>\n",
       "    <tr>\n",
       "      <th>2</th>\n",
       "      <td>1.0</td>\n",
       "      <td>8.940000</td>\n",
       "      <td>15.080000</td>\n",
       "      <td>-0.038650</td>\n",
       "      <td>-0.328694</td>\n",
       "    </tr>\n",
       "    <tr>\n",
       "      <th>21</th>\n",
       "      <td>1.0</td>\n",
       "      <td>0.520000</td>\n",
       "      <td>699.710000</td>\n",
       "      <td>0.290000</td>\n",
       "      <td>0.539907</td>\n",
       "    </tr>\n",
       "  </tbody>\n",
       "</table>\n",
       "</div>"
      ],
      "text/plain": [
       "    const        DER  Operating Profit Margin  Return On Asset  Sales Growth\n",
       "9     1.0   1.110000                24.640000        -0.120227     -0.120274\n",
       "27    1.0   0.530000                 4.853000         0.200000      0.688955\n",
       "30    1.0   0.308144                 0.086652         0.056560      0.404536\n",
       "4     1.0   1.420000               265.900000         0.010000      0.107550\n",
       "14    1.0   0.470000                18.660000         0.030000      0.785000\n",
       "20    1.0   0.310000               131.790000         0.080000      0.829775\n",
       "18    1.0   3.320000              -120.220000        -0.020000      0.477539\n",
       "6     1.0   0.580000                 1.485000         0.410000      1.085816\n",
       "28    1.0   1.200000               208.160000         0.060000      0.220287\n",
       "25    1.0   0.150000               304.460000         0.180000     -0.073845\n",
       "13    1.0   1.500000               257.320000         0.030000      0.249980\n",
       "3     1.0   5.430000               -30.070000        -1.190000      0.000000\n",
       "16    1.0   0.320000                -9.540000        -0.020000      0.000000\n",
       "7     1.0  12.220000                 1.020000         0.020000      0.709000\n",
       "24    1.0  20.540000               -17.390000        -0.080000     -0.110911\n",
       "17    1.0   0.310000               744.890000         0.100000      1.130136\n",
       "29    1.0   0.061522                 1.659396         0.006723      0.870433\n",
       "23    1.0   0.280000                 3.290000         0.000000      0.000000\n",
       "12    1.0   0.900000                37.560000         0.010000      0.053012\n",
       "26    1.0   0.770000                -2.540000        -0.060000      0.000000\n",
       "5     1.0  26.250000              -109.000000        -0.300000     -0.371777\n",
       "11    1.0   0.650000                 1.946000        -0.020000      0.436286\n",
       "2     1.0   8.940000                15.080000        -0.038650     -0.328694\n",
       "21    1.0   0.520000               699.710000         0.290000      0.539907"
      ]
     },
     "execution_count": 9,
     "metadata": {},
     "output_type": "execute_result"
    }
   ],
   "source": [
    "x_train_sm = sm.add_constant(x_train)\n",
    "x_train_sm"
   ]
  },
  {
   "cell_type": "code",
   "execution_count": 10,
   "id": "ad82853f",
   "metadata": {
    "execution": {
     "iopub.execute_input": "2022-07-06T11:56:51.054482Z",
     "iopub.status.busy": "2022-07-06T11:56:51.054081Z",
     "iopub.status.idle": "2022-07-06T11:56:51.090712Z",
     "shell.execute_reply": "2022-07-06T11:56:51.089348Z"
    },
    "papermill": {
     "duration": 0.046171,
     "end_time": "2022-07-06T11:56:51.094528",
     "exception": false,
     "start_time": "2022-07-06T11:56:51.048357",
     "status": "completed"
    },
    "tags": []
   },
   "outputs": [
    {
     "name": "stdout",
     "output_type": "stream",
     "text": [
      "Optimization terminated successfully.\n",
      "         Current function value: 0.630855\n",
      "         Iterations 9\n"
     ]
    }
   ],
   "source": [
    "#logit_mod = sm.Logit(y_train, x_train_sm\n",
    "                     \n",
    "mnlogit_mod = sm.MNLogit(y_train, x_train_sm)\n",
    "mnlogit_fit = mnlogit_mod.fit()"
   ]
  },
  {
   "cell_type": "code",
   "execution_count": 11,
   "id": "2aed170e",
   "metadata": {
    "execution": {
     "iopub.execute_input": "2022-07-06T11:56:51.127593Z",
     "iopub.status.busy": "2022-07-06T11:56:51.126904Z",
     "iopub.status.idle": "2022-07-06T11:56:51.196856Z",
     "shell.execute_reply": "2022-07-06T11:56:51.195342Z"
    },
    "papermill": {
     "duration": 0.085383,
     "end_time": "2022-07-06T11:56:51.201221",
     "exception": false,
     "start_time": "2022-07-06T11:56:51.115838",
     "status": "completed"
    },
    "tags": []
   },
   "outputs": [
    {
     "name": "stdout",
     "output_type": "stream",
     "text": [
      "                          MNLogit Regression Results                          \n",
      "==============================================================================\n",
      "Dep. Variable:               Category   No. Observations:                   24\n",
      "Model:                        MNLogit   Df Residuals:                       14\n",
      "Method:                           MLE   Df Model:                            8\n",
      "Date:                Wed, 06 Jul 2022   Pseudo R-squ.:                  0.2639\n",
      "Time:                        11:56:51   Log-Likelihood:                -15.141\n",
      "converged:                       True   LL-Null:                       -20.569\n",
      "Covariance Type:            nonrobust   LLR p-value:                    0.2100\n",
      "===========================================================================================\n",
      "             Category=2       coef    std err          z      P>|z|      [0.025      0.975]\n",
      "-------------------------------------------------------------------------------------------\n",
      "const                       2.1797      1.411      1.545      0.122      -0.586       4.945\n",
      "DER                        -0.0036      0.117     -0.031      0.976      -0.234       0.226\n",
      "Operating Profit Margin     0.0052      0.007      0.769      0.442      -0.008       0.019\n",
      "Return On Asset             5.8943      7.943      0.742      0.458      -9.673      21.462\n",
      "Sales Growth               -2.3633      2.327     -1.016      0.310      -6.925       2.198\n",
      "-------------------------------------------------------------------------------------------\n",
      "             Category=4       coef    std err          z      P>|z|      [0.025      0.975]\n",
      "-------------------------------------------------------------------------------------------\n",
      "const                       1.3859      1.581      0.877      0.381      -1.713       4.484\n",
      "DER                        -0.1152      0.155     -0.743      0.457      -0.419       0.189\n",
      "Operating Profit Margin     0.0015      0.010      0.146      0.884      -0.018       0.021\n",
      "Return On Asset            -7.1576     14.165     -0.505      0.613     -34.920      20.605\n",
      "Sales Growth               -2.8908      3.072     -0.941      0.347      -8.912       3.131\n",
      "===========================================================================================\n"
     ]
    }
   ],
   "source": [
    "print (mnlogit_fit.summary())"
   ]
  },
  {
   "cell_type": "code",
   "execution_count": 12,
   "id": "ae2c1396",
   "metadata": {
    "execution": {
     "iopub.execute_input": "2022-07-06T11:56:51.215132Z",
     "iopub.status.busy": "2022-07-06T11:56:51.214655Z",
     "iopub.status.idle": "2022-07-06T11:56:51.251354Z",
     "shell.execute_reply": "2022-07-06T11:56:51.250275Z"
    },
    "papermill": {
     "duration": 0.046489,
     "end_time": "2022-07-06T11:56:51.253927",
     "exception": false,
     "start_time": "2022-07-06T11:56:51.207438",
     "status": "completed"
    },
    "tags": []
   },
   "outputs": [
    {
     "name": "stderr",
     "output_type": "stream",
     "text": [
      "/opt/conda/lib/python3.7/site-packages/sklearn/linear_model/_logistic.py:818: ConvergenceWarning: lbfgs failed to converge (status=1):\n",
      "STOP: TOTAL NO. of ITERATIONS REACHED LIMIT.\n",
      "\n",
      "Increase the number of iterations (max_iter) or scale the data as shown in:\n",
      "    https://scikit-learn.org/stable/modules/preprocessing.html\n",
      "Please also refer to the documentation for alternative solver options:\n",
      "    https://scikit-learn.org/stable/modules/linear_model.html#logistic-regression\n",
      "  extra_warning_msg=_LOGISTIC_SOLVER_CONVERGENCE_MSG,\n"
     ]
    },
    {
     "data": {
      "text/plain": [
       "LogisticRegression()"
      ]
     },
     "execution_count": 12,
     "metadata": {},
     "output_type": "execute_result"
    }
   ],
   "source": [
    "model = LogisticRegression(multi_class='auto')\n",
    "model.fit(x_train, y_train)"
   ]
  },
  {
   "cell_type": "code",
   "execution_count": 13,
   "id": "aa138881",
   "metadata": {
    "execution": {
     "iopub.execute_input": "2022-07-06T11:56:51.265239Z",
     "iopub.status.busy": "2022-07-06T11:56:51.264652Z",
     "iopub.status.idle": "2022-07-06T11:56:51.273114Z",
     "shell.execute_reply": "2022-07-06T11:56:51.272032Z"
    },
    "papermill": {
     "duration": 0.016635,
     "end_time": "2022-07-06T11:56:51.275297",
     "exception": false,
     "start_time": "2022-07-06T11:56:51.258662",
     "status": "completed"
    },
    "tags": []
   },
   "outputs": [
    {
     "data": {
      "text/plain": [
       "array([[0.1740258 , 0.6323921 , 0.1935821 ],\n",
       "       [0.21614075, 0.67140937, 0.11244988],\n",
       "       [0.19418452, 0.70874832, 0.09706715],\n",
       "       [0.17982605, 0.19111085, 0.6290631 ],\n",
       "       [0.1270219 , 0.69222258, 0.18075553]])"
      ]
     },
     "execution_count": 13,
     "metadata": {},
     "output_type": "execute_result"
    }
   ],
   "source": [
    "model.predict_proba(x_test)[0:5]"
   ]
  },
  {
   "cell_type": "code",
   "execution_count": 14,
   "id": "77ad96f9",
   "metadata": {
    "execution": {
     "iopub.execute_input": "2022-07-06T11:56:51.286342Z",
     "iopub.status.busy": "2022-07-06T11:56:51.285983Z",
     "iopub.status.idle": "2022-07-06T11:56:51.293905Z",
     "shell.execute_reply": "2022-07-06T11:56:51.292807Z"
    },
    "papermill": {
     "duration": 0.015952,
     "end_time": "2022-07-06T11:56:51.295984",
     "exception": false,
     "start_time": "2022-07-06T11:56:51.280032",
     "status": "completed"
    },
    "tags": []
   },
   "outputs": [
    {
     "data": {
      "text/plain": [
       "array([2., 2., 2., 4., 2., 2., 2.])"
      ]
     },
     "execution_count": 14,
     "metadata": {},
     "output_type": "execute_result"
    }
   ],
   "source": [
    "predictions = model.predict(x_test)\n",
    "predictions"
   ]
  },
  {
   "cell_type": "code",
   "execution_count": 15,
   "id": "df894bb4",
   "metadata": {
    "execution": {
     "iopub.execute_input": "2022-07-06T11:56:51.308338Z",
     "iopub.status.busy": "2022-07-06T11:56:51.307571Z",
     "iopub.status.idle": "2022-07-06T11:56:51.321900Z",
     "shell.execute_reply": "2022-07-06T11:56:51.320377Z"
    },
    "papermill": {
     "duration": 0.023006,
     "end_time": "2022-07-06T11:56:51.324351",
     "exception": false,
     "start_time": "2022-07-06T11:56:51.301345",
     "status": "completed"
    },
    "tags": []
   },
   "outputs": [
    {
     "name": "stdout",
     "output_type": "stream",
     "text": [
      "              precision    recall  f1-score   support\n",
      "\n",
      "         1.0       0.00      0.00      0.00         1\n",
      "         2.0       0.67      1.00      0.80         4\n",
      "         4.0       1.00      0.50      0.67         2\n",
      "\n",
      "    accuracy                           0.71         7\n",
      "   macro avg       0.56      0.50      0.49         7\n",
      "weighted avg       0.67      0.71      0.65         7\n",
      "\n"
     ]
    },
    {
     "name": "stderr",
     "output_type": "stream",
     "text": [
      "/opt/conda/lib/python3.7/site-packages/sklearn/metrics/_classification.py:1318: UndefinedMetricWarning: Precision and F-score are ill-defined and being set to 0.0 in labels with no predicted samples. Use `zero_division` parameter to control this behavior.\n",
      "  _warn_prf(average, modifier, msg_start, len(result))\n",
      "/opt/conda/lib/python3.7/site-packages/sklearn/metrics/_classification.py:1318: UndefinedMetricWarning: Precision and F-score are ill-defined and being set to 0.0 in labels with no predicted samples. Use `zero_division` parameter to control this behavior.\n",
      "  _warn_prf(average, modifier, msg_start, len(result))\n",
      "/opt/conda/lib/python3.7/site-packages/sklearn/metrics/_classification.py:1318: UndefinedMetricWarning: Precision and F-score are ill-defined and being set to 0.0 in labels with no predicted samples. Use `zero_division` parameter to control this behavior.\n",
      "  _warn_prf(average, modifier, msg_start, len(result))\n"
     ]
    }
   ],
   "source": [
    "print(classification_report(y_test, predictions))"
   ]
  }
 ],
 "metadata": {
  "kernelspec": {
   "display_name": "Python 3",
   "language": "python",
   "name": "python3"
  },
  "language_info": {
   "codemirror_mode": {
    "name": "ipython",
    "version": 3
   },
   "file_extension": ".py",
   "mimetype": "text/x-python",
   "name": "python",
   "nbconvert_exporter": "python",
   "pygments_lexer": "ipython3",
   "version": "3.7.12"
  },
  "papermill": {
   "default_parameters": {},
   "duration": 11.978089,
   "end_time": "2022-07-06T11:56:52.050149",
   "environment_variables": {},
   "exception": null,
   "input_path": "__notebook__.ipynb",
   "output_path": "__notebook__.ipynb",
   "parameters": {},
   "start_time": "2022-07-06T11:56:40.072060",
   "version": "2.3.4"
  }
 },
 "nbformat": 4,
 "nbformat_minor": 5
}
